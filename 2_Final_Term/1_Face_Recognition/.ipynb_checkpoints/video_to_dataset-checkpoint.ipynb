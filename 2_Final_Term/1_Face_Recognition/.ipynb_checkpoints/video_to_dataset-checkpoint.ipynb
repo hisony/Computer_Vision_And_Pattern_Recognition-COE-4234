{
 "cells": [
  {
   "cell_type": "code",
   "execution_count": 11,
   "id": "e21a6dbb-fc3c-458f-8ff3-58832ddd551f",
   "metadata": {},
   "outputs": [
    {
     "name": "stdout",
     "output_type": "stream",
     "text": [
      "{video_path}\n",
      "✅ Saved 150 faces for 'Sony'\n",
      "✅ Saved 150 faces for 'Rakib'\n",
      "✅ Saved 0 faces for 'Seum'\n",
      "✅ Saved 150 faces for 'Rifat'\n"
     ]
    }
   ],
   "source": [
    "import cv2\n",
    "import os\n",
    "\n",
    "print(\"{video_path}\")\n",
    "# ✅ Step 1: Set Video and Dataset Path\n",
    "video_dir = r\"/Users/sonyzaman/Desktop/cvrp_final_assignment/video\"\n",
    "dataset_dir = r\"/Users/sonyzaman/Desktop/cvrp_final_assignment/face_dataset\"\n",
    "os.makedirs(dataset_dir, exist_ok=True)\n",
    "\n",
    "# ✅ Step 2: Face Extraction Function\n",
    "def extract_faces_from_video(video_path, person_name, save_dir, max_faces=200):\n",
    "    person_path = os.path.join(save_dir, person_name)\n",
    "    os.makedirs(person_path, exist_ok=True)\n",
    "\n",
    "    face_cascade = cv2.CascadeClassifier(cv2.data.haarcascades + 'haarcascade_frontalface_default.xml')\n",
    "    cap = cv2.VideoCapture(video_path)\n",
    "    saved_faces = 0\n",
    "\n",
    "    while cap.isOpened() and saved_faces < max_faces:\n",
    "        ret, frame = cap.read()\n",
    "        if not ret:\n",
    "            break\n",
    "\n",
    "        gray = cv2.cvtColor(frame, cv2.COLOR_BGR2GRAY)\n",
    "        faces = face_cascade.detectMultiScale(gray, 1.3, 5)\n",
    "\n",
    "        for (x, y, w, h) in faces:\n",
    "            face = frame[y:y+h, x:x+w]\n",
    "            face = cv2.resize(face, (160, 160))\n",
    "            save_path = os.path.join(person_path, f\"{saved_faces:03d}.jpg\")\n",
    "            cv2.imwrite(save_path, face)\n",
    "            saved_faces += 1\n",
    "            break  # Save only one face per frame\n",
    "\n",
    "    cap.release()\n",
    "    print(f\"✅ Saved {saved_faces} faces for '{person_name}'\")\n",
    "\n",
    "# ✅ Step 3: Define Your Videos\n",
    "video_files = {\n",
    "    \"Sony.mp4\": \"Sony\",\n",
    "    \"Rakib.mp4\": \"Rakib\",\n",
    "    \"Seum.mp4\": \"Seum\"\n",
    "#\"Rifat.mp4\": \"Rifat\"\n",
    "    \n",
    "}\n",
    "\n",
    "# ✅ Step 4: Run Extraction\n",
    "for filename, person in video_files.items():\n",
    "    video_path = os.path.join(video_dir, filename)\n",
    "    if os.path.exists(video_path):\n",
    "        extract_faces_from_video(video_path, person, dataset_dir)\n",
    "    else:\n",
    "        print(f\"❌ File not found: {video_path}\")\n"
   ]
  },
  {
   "cell_type": "code",
   "execution_count": null,
   "id": "de3f5b97-ddec-492c-b074-5ecdcfe4a93d",
   "metadata": {},
   "outputs": [],
   "source": []
  },
  {
   "cell_type": "code",
   "execution_count": null,
   "id": "4c058fc1-80a7-46ad-bda0-2cd568a8212f",
   "metadata": {},
   "outputs": [],
   "source": []
  },
  {
   "cell_type": "code",
   "execution_count": null,
   "id": "116133ae-4cb1-4f25-9f60-bb9e4f7c9212",
   "metadata": {},
   "outputs": [],
   "source": []
  }
 ],
 "metadata": {
  "kernelspec": {
   "display_name": "Python 3 (ipykernel)",
   "language": "python",
   "name": "python3"
  },
  "language_info": {
   "codemirror_mode": {
    "name": "ipython",
    "version": 3
   },
   "file_extension": ".py",
   "mimetype": "text/x-python",
   "name": "python",
   "nbconvert_exporter": "python",
   "pygments_lexer": "ipython3",
   "version": "3.10.10"
  }
 },
 "nbformat": 4,
 "nbformat_minor": 5
}
